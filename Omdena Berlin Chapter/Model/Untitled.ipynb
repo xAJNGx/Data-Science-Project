{
 "cells": [
  {
   "cell_type": "markdown",
   "id": "e6a8eda4",
   "metadata": {},
   "source": [
    "## Model for the dataset Amount-of Waste-Generated-By-State 32121-0003.ipynb\n"
   ]
  },
  {
   "cell_type": "code",
   "execution_count": null,
   "id": "b9fd2e43",
   "metadata": {},
   "outputs": [],
   "source": []
  }
 ],
 "metadata": {
  "kernelspec": {
   "display_name": "Python 3 (ipykernel)",
   "language": "python",
   "name": "python3"
  },
  "language_info": {
   "codemirror_mode": {
    "name": "ipython",
    "version": 3
   },
   "file_extension": ".py",
   "mimetype": "text/x-python",
   "name": "python",
   "nbconvert_exporter": "python",
   "pygments_lexer": "ipython3",
   "version": "3.11.3"
  }
 },
 "nbformat": 4,
 "nbformat_minor": 5
}
